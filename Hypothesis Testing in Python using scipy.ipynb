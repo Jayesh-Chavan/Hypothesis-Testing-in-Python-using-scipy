{
 "cells": [
  {
   "cell_type": "code",
   "execution_count": 1,
   "id": "83989af4",
   "metadata": {},
   "outputs": [],
   "source": [
    "import pandas as pd \n",
    "import numpy as np\n",
    "import matplotlib.pyplot as plt\n",
    "from scipy import stats\n",
    "import scipy"
   ]
  },
  {
   "cell_type": "markdown",
   "id": "d7294e4e",
   "metadata": {},
   "source": [
    "### T-test: One Sample\n",
    "- To test if given sample is coming from population with specified mean mu0"
   ]
  },
  {
   "cell_type": "code",
   "execution_count": 2,
   "id": "679359cb",
   "metadata": {
    "scrolled": false
   },
   "outputs": [
    {
     "data": {
      "text/html": [
       "<div>\n",
       "<style scoped>\n",
       "    .dataframe tbody tr th:only-of-type {\n",
       "        vertical-align: middle;\n",
       "    }\n",
       "\n",
       "    .dataframe tbody tr th {\n",
       "        vertical-align: top;\n",
       "    }\n",
       "\n",
       "    .dataframe thead th {\n",
       "        text-align: right;\n",
       "    }\n",
       "</style>\n",
       "<table border=\"1\" class=\"dataframe\">\n",
       "  <thead>\n",
       "    <tr style=\"text-align: right;\">\n",
       "      <th></th>\n",
       "      <th>gender</th>\n",
       "      <th>race/ethnicity</th>\n",
       "      <th>parental level of education</th>\n",
       "      <th>lunch</th>\n",
       "      <th>test preparation course</th>\n",
       "      <th>math score</th>\n",
       "      <th>reading score</th>\n",
       "      <th>writing score</th>\n",
       "    </tr>\n",
       "  </thead>\n",
       "  <tbody>\n",
       "    <tr>\n",
       "      <th>0</th>\n",
       "      <td>female</td>\n",
       "      <td>group B</td>\n",
       "      <td>bachelor's degree</td>\n",
       "      <td>standard</td>\n",
       "      <td>none</td>\n",
       "      <td>72</td>\n",
       "      <td>72</td>\n",
       "      <td>74</td>\n",
       "    </tr>\n",
       "    <tr>\n",
       "      <th>1</th>\n",
       "      <td>female</td>\n",
       "      <td>group C</td>\n",
       "      <td>some college</td>\n",
       "      <td>standard</td>\n",
       "      <td>completed</td>\n",
       "      <td>69</td>\n",
       "      <td>90</td>\n",
       "      <td>88</td>\n",
       "    </tr>\n",
       "    <tr>\n",
       "      <th>2</th>\n",
       "      <td>female</td>\n",
       "      <td>group B</td>\n",
       "      <td>master's degree</td>\n",
       "      <td>standard</td>\n",
       "      <td>none</td>\n",
       "      <td>90</td>\n",
       "      <td>95</td>\n",
       "      <td>93</td>\n",
       "    </tr>\n",
       "    <tr>\n",
       "      <th>3</th>\n",
       "      <td>male</td>\n",
       "      <td>group A</td>\n",
       "      <td>associate's degree</td>\n",
       "      <td>free/reduced</td>\n",
       "      <td>none</td>\n",
       "      <td>47</td>\n",
       "      <td>57</td>\n",
       "      <td>44</td>\n",
       "    </tr>\n",
       "    <tr>\n",
       "      <th>4</th>\n",
       "      <td>male</td>\n",
       "      <td>group C</td>\n",
       "      <td>some college</td>\n",
       "      <td>standard</td>\n",
       "      <td>none</td>\n",
       "      <td>76</td>\n",
       "      <td>78</td>\n",
       "      <td>75</td>\n",
       "    </tr>\n",
       "  </tbody>\n",
       "</table>\n",
       "</div>"
      ],
      "text/plain": [
       "   gender race/ethnicity parental level of education         lunch  \\\n",
       "0  female        group B           bachelor's degree      standard   \n",
       "1  female        group C                some college      standard   \n",
       "2  female        group B             master's degree      standard   \n",
       "3    male        group A          associate's degree  free/reduced   \n",
       "4    male        group C                some college      standard   \n",
       "\n",
       "  test preparation course  math score  reading score  writing score  \n",
       "0                    none          72             72             74  \n",
       "1               completed          69             90             88  \n",
       "2                    none          90             95             93  \n",
       "3                    none          47             57             44  \n",
       "4                    none          76             78             75  "
      ]
     },
     "execution_count": 2,
     "metadata": {},
     "output_type": "execute_result"
    }
   ],
   "source": [
    "df = pd.read_csv('StudentsPerformance.csv')\n",
    "df.head()"
   ]
  },
  {
   "cell_type": "code",
   "execution_count": 3,
   "id": "b0488b83",
   "metadata": {},
   "outputs": [
    {
     "name": "stdout",
     "output_type": "stream",
     "text": [
      "Test Statistics is -8.156435137590153 and P-value is 5.145632170811557e-16\n",
      "Therefore, the null hypothesis is rejected.\n"
     ]
    }
   ],
   "source": [
    "#CLaim:The average maths score of students is less than 70.\n",
    "\n",
    "#H0 : The average maths score of students is 70.\n",
    "#H1 : The average maths score of students is less than 70.\n",
    "\n",
    "d = df['math score']\n",
    "t = stats.ttest_1samp(d,70,alternative='less')\n",
    "print(\"Test Statistics is {} and P-value is {}\".format(t[0],t[1]))\n",
    "if t[1]<0.05:\n",
    "    print('Therefore, the null hypothesis is rejected.')\n",
    "else:\n",
    "    print('Therefore, the null hypothesis is accepted.')"
   ]
  },
  {
   "cell_type": "code",
   "execution_count": 4,
   "id": "ea14e311",
   "metadata": {},
   "outputs": [
    {
     "name": "stdout",
     "output_type": "stream",
     "text": [
      "Test Statistics is -2.686457043243347 and P-value is 0.005913221930935952\n",
      "Therefore, the null hypothesis is rejected.\n"
     ]
    }
   ],
   "source": [
    "#CLaim:The average maths score of students is less than 66.\n",
    "\n",
    "#H0 : The average maths score of students is 66.\n",
    "#H1 : The average maths score of students is less than 66.\n",
    "\n",
    "d = df['math score']\n",
    "d1 = d[np.random.randint(0,1000,30)]\n",
    "t = stats.ttest_1samp(d[d1],66,alternative='less')\n",
    "print(\"Test Statistics is {} and P-value is {}\".format(t[0],t[1]))\n",
    "if t[1]<0.05:\n",
    "    print('Therefore, the null hypothesis is rejected.')\n",
    "else:\n",
    "    print('Therefore, the null hypothesis is accepted.')"
   ]
  },
  {
   "cell_type": "markdown",
   "id": "3be7a0d3",
   "metadata": {},
   "source": [
    "### T-test: Two Sample\n",
    "- To test if given samples are coming from population with same mean."
   ]
  },
  {
   "cell_type": "code",
   "execution_count": 5,
   "id": "adfa51cd",
   "metadata": {
    "scrolled": true
   },
   "outputs": [
    {
     "data": {
      "text/plain": [
       "female    518\n",
       "male      482\n",
       "Name: gender, dtype: int64"
      ]
     },
     "execution_count": 5,
     "metadata": {},
     "output_type": "execute_result"
    }
   ],
   "source": [
    "df['gender'].value_counts()"
   ]
  },
  {
   "cell_type": "code",
   "execution_count": 6,
   "id": "9e31dd7d",
   "metadata": {
    "scrolled": true
   },
   "outputs": [
    {
     "name": "stdout",
     "output_type": "stream",
     "text": [
      "No. of female samples:  31\n",
      "No. of male samples:  29\n"
     ]
    }
   ],
   "source": [
    "#To decide sample size,we will use proportional sample size\n",
    "f_prop = df['gender'].value_counts()['female']/(df['gender'].value_counts()['male']+df['gender'].value_counts()['female'])\n",
    "m_prop = df['gender'].value_counts()['male']/(df['gender'].value_counts()['male']+df['gender'].value_counts()['female'])\n",
    "num_of_female_samples = round(f_prop*60)\n",
    "num_of_male_samples = round(m_prop*60)\n",
    "print('No. of female samples: ',num_of_female_samples)\n",
    "print('No. of male samples: ',num_of_male_samples)\n",
    "#Math Scores of Females\n",
    "f = df[df['gender']=='female']['math score']\n",
    "#Math Scores of Males\n",
    "m = df[df['gender']=='male']['math score']"
   ]
  },
  {
   "cell_type": "code",
   "execution_count": 7,
   "id": "cecae55d",
   "metadata": {
    "scrolled": true
   },
   "outputs": [
    {
     "name": "stdout",
     "output_type": "stream",
     "text": [
      "Test Statistics is -1.4291846789822416 and P-value is 0.920842369327858\n",
      "Therefore, the null hypothesis is accepted.\n"
     ]
    }
   ],
   "source": [
    "#CLaim:The average maths score of female students is greater than male students.\n",
    "\n",
    "#H0 : The average maths score of female students and male students is same.\n",
    "#H1 : The average maths score of female students is greater than male students.\n",
    "\n",
    "female_scores = np.random.choice(f,num_of_female_samples)\n",
    "male_scores = np.random.choice(m,num_of_male_samples)\n",
    "t = stats.ttest_ind(female_scores,male_scores,alternative='greater')\n",
    "print(\"Test Statistics is {} and P-value is {}\".format(t[0],t[1]))\n",
    "if t[1]<0.05:\n",
    "    print('Therefore, the null hypothesis is rejected.')\n",
    "else:\n",
    "    print('Therefore, the null hypothesis is accepted.')"
   ]
  },
  {
   "cell_type": "code",
   "execution_count": 8,
   "id": "f2764e07",
   "metadata": {},
   "outputs": [
    {
     "name": "stdout",
     "output_type": "stream",
     "text": [
      "Test Statistics is -5.383245869828983 and P-value is 0.9999999543990722\n",
      "Therefore, the null hypothesis is accepted.\n"
     ]
    }
   ],
   "source": [
    "#CLaim:The average maths score of female students is greater than male students.\n",
    "\n",
    "#H0 : The average maths score of female students and male students is same.\n",
    "#H1 : The average maths score of female students is greater than male students.\n",
    "\n",
    "t = stats.ttest_ind(f,m,alternative='greater')\n",
    "print(\"Test Statistics is {} and P-value is {}\".format(t[0],t[1]))\n",
    "if t[1]<0.05:\n",
    "    print('Therefore, the null hypothesis is rejected.')\n",
    "else:\n",
    "    print('Therefore, the null hypothesis is accepted.')"
   ]
  },
  {
   "cell_type": "markdown",
   "id": "ef045fd3",
   "metadata": {},
   "source": [
    "### T-test: Paired\n",
    "Each value of one group corresponds directly to a value in the other group, \n",
    "before and after values in an experiment. Subtract two values and perform a \n",
    "one-sample t-test with null mean set to 0."
   ]
  },
  {
   "cell_type": "code",
   "execution_count": 9,
   "id": "9cc97e56",
   "metadata": {},
   "outputs": [
    {
     "name": "stdout",
     "output_type": "stream",
     "text": [
      "Test Statistics is 5.137575947594257 and P-value is 0.0003066463914488514\n",
      "Therefore, the null hypothesis is rejected.\n"
     ]
    }
   ],
   "source": [
    "# Check if there is significant increase in swimming time after taking health drink .\n",
    "\n",
    "#H0 : There is no significant increase in swimming time after taking health drink .\n",
    "#H1 : There is significant increase in swimming time after taking health drink .\n",
    "\n",
    "B = np.array([302,306,350,342,310,298,285,360,341,360])\n",
    "A = np.array([322,320,369,380,350,360,380,390,385,390])\n",
    "df1 = pd.DataFrame({'B':B,'A':A})\n",
    "t = stats.ttest_rel(df1['A'],df1['B'],alternative='greater')\n",
    "print(\"Test Statistics is {} and P-value is {}\".format(t[0],t[1]))\n",
    "if t[1]<0.05:\n",
    "    print('Therefore, the null hypothesis is rejected.')\n",
    "else:\n",
    "    print('Therefore, the null hypothesis is accepted.')"
   ]
  },
  {
   "cell_type": "code",
   "execution_count": 10,
   "id": "79c45148",
   "metadata": {},
   "outputs": [
    {
     "data": {
      "text/plain": [
       "39.200000000000045"
      ]
     },
     "execution_count": 10,
     "metadata": {},
     "output_type": "execute_result"
    }
   ],
   "source": [
    "A.mean() - B.mean()"
   ]
  },
  {
   "cell_type": "markdown",
   "id": "b88b2e58",
   "metadata": {},
   "source": [
    "### Chi-squre test\n",
    "- For checking goodness of fit\n",
    "- For testing independence of attributes\n",
    "A general rule is to have cell frequencies more than 5"
   ]
  },
  {
   "cell_type": "code",
   "execution_count": 11,
   "id": "a16fd482",
   "metadata": {
    "scrolled": true
   },
   "outputs": [
    {
     "data": {
      "text/html": [
       "<div>\n",
       "<style scoped>\n",
       "    .dataframe tbody tr th:only-of-type {\n",
       "        vertical-align: middle;\n",
       "    }\n",
       "\n",
       "    .dataframe tbody tr th {\n",
       "        vertical-align: top;\n",
       "    }\n",
       "\n",
       "    .dataframe thead th {\n",
       "        text-align: right;\n",
       "    }\n",
       "</style>\n",
       "<table border=\"1\" class=\"dataframe\">\n",
       "  <thead>\n",
       "    <tr style=\"text-align: right;\">\n",
       "      <th></th>\n",
       "      <th>lat</th>\n",
       "      <th>lng</th>\n",
       "      <th>desc</th>\n",
       "      <th>zip</th>\n",
       "      <th>title</th>\n",
       "      <th>timeStamp</th>\n",
       "      <th>twp</th>\n",
       "      <th>addr</th>\n",
       "      <th>e</th>\n",
       "    </tr>\n",
       "  </thead>\n",
       "  <tbody>\n",
       "    <tr>\n",
       "      <th>0</th>\n",
       "      <td>40.297876</td>\n",
       "      <td>-75.581294</td>\n",
       "      <td>REINDEER CT &amp; DEAD END;  NEW HANOVER; Station ...</td>\n",
       "      <td>19525.0</td>\n",
       "      <td>EMS: BACK PAINS/INJURY</td>\n",
       "      <td>2015-12-10 17:40:00</td>\n",
       "      <td>NEW HANOVER</td>\n",
       "      <td>REINDEER CT &amp; DEAD END</td>\n",
       "      <td>1</td>\n",
       "    </tr>\n",
       "    <tr>\n",
       "      <th>1</th>\n",
       "      <td>40.258061</td>\n",
       "      <td>-75.264680</td>\n",
       "      <td>BRIAR PATH &amp; WHITEMARSH LN;  HATFIELD TOWNSHIP...</td>\n",
       "      <td>19446.0</td>\n",
       "      <td>EMS: DIABETIC EMERGENCY</td>\n",
       "      <td>2015-12-10 17:40:00</td>\n",
       "      <td>HATFIELD TOWNSHIP</td>\n",
       "      <td>BRIAR PATH &amp; WHITEMARSH LN</td>\n",
       "      <td>1</td>\n",
       "    </tr>\n",
       "    <tr>\n",
       "      <th>2</th>\n",
       "      <td>40.121182</td>\n",
       "      <td>-75.351975</td>\n",
       "      <td>HAWS AVE; NORRISTOWN; 2015-12-10 @ 14:39:21-St...</td>\n",
       "      <td>19401.0</td>\n",
       "      <td>Fire: GAS-ODOR/LEAK</td>\n",
       "      <td>2015-12-10 17:40:00</td>\n",
       "      <td>NORRISTOWN</td>\n",
       "      <td>HAWS AVE</td>\n",
       "      <td>1</td>\n",
       "    </tr>\n",
       "    <tr>\n",
       "      <th>3</th>\n",
       "      <td>40.116153</td>\n",
       "      <td>-75.343513</td>\n",
       "      <td>AIRY ST &amp; SWEDE ST;  NORRISTOWN; Station 308A;...</td>\n",
       "      <td>19401.0</td>\n",
       "      <td>EMS: CARDIAC EMERGENCY</td>\n",
       "      <td>2015-12-10 17:40:01</td>\n",
       "      <td>NORRISTOWN</td>\n",
       "      <td>AIRY ST &amp; SWEDE ST</td>\n",
       "      <td>1</td>\n",
       "    </tr>\n",
       "    <tr>\n",
       "      <th>4</th>\n",
       "      <td>40.251492</td>\n",
       "      <td>-75.603350</td>\n",
       "      <td>CHERRYWOOD CT &amp; DEAD END;  LOWER POTTSGROVE; S...</td>\n",
       "      <td>NaN</td>\n",
       "      <td>EMS: DIZZINESS</td>\n",
       "      <td>2015-12-10 17:40:01</td>\n",
       "      <td>LOWER POTTSGROVE</td>\n",
       "      <td>CHERRYWOOD CT &amp; DEAD END</td>\n",
       "      <td>1</td>\n",
       "    </tr>\n",
       "  </tbody>\n",
       "</table>\n",
       "</div>"
      ],
      "text/plain": [
       "         lat        lng                                               desc  \\\n",
       "0  40.297876 -75.581294  REINDEER CT & DEAD END;  NEW HANOVER; Station ...   \n",
       "1  40.258061 -75.264680  BRIAR PATH & WHITEMARSH LN;  HATFIELD TOWNSHIP...   \n",
       "2  40.121182 -75.351975  HAWS AVE; NORRISTOWN; 2015-12-10 @ 14:39:21-St...   \n",
       "3  40.116153 -75.343513  AIRY ST & SWEDE ST;  NORRISTOWN; Station 308A;...   \n",
       "4  40.251492 -75.603350  CHERRYWOOD CT & DEAD END;  LOWER POTTSGROVE; S...   \n",
       "\n",
       "       zip                    title            timeStamp                twp  \\\n",
       "0  19525.0   EMS: BACK PAINS/INJURY  2015-12-10 17:40:00        NEW HANOVER   \n",
       "1  19446.0  EMS: DIABETIC EMERGENCY  2015-12-10 17:40:00  HATFIELD TOWNSHIP   \n",
       "2  19401.0      Fire: GAS-ODOR/LEAK  2015-12-10 17:40:00         NORRISTOWN   \n",
       "3  19401.0   EMS: CARDIAC EMERGENCY  2015-12-10 17:40:01         NORRISTOWN   \n",
       "4      NaN           EMS: DIZZINESS  2015-12-10 17:40:01   LOWER POTTSGROVE   \n",
       "\n",
       "                         addr  e  \n",
       "0      REINDEER CT & DEAD END  1  \n",
       "1  BRIAR PATH & WHITEMARSH LN  1  \n",
       "2                    HAWS AVE  1  \n",
       "3          AIRY ST & SWEDE ST  1  \n",
       "4    CHERRYWOOD CT & DEAD END  1  "
      ]
     },
     "execution_count": 11,
     "metadata": {},
     "output_type": "execute_result"
    }
   ],
   "source": [
    "df1 = pd.read_csv(r'C:\\Users\\jaych\\Downloads\\Refactored_Py_DS_ML_Bootcamp-master\\10-Data-Capstone-Projects\\911.csv')\n",
    "df1.head()"
   ]
  },
  {
   "cell_type": "code",
   "execution_count": 12,
   "id": "78ebe3ba",
   "metadata": {},
   "outputs": [],
   "source": [
    "df1['Reason'] = df1['title'].apply(lambda x:x.split(':')[0])"
   ]
  },
  {
   "cell_type": "code",
   "execution_count": 13,
   "id": "5e832957",
   "metadata": {},
   "outputs": [],
   "source": [
    "import datetime\n",
    "df1['timeStamp'] = pd.to_datetime(df1['timeStamp'])\n",
    "df1['Month'] = df1['timeStamp'].apply(lambda x:x.month)\n",
    "df1['Hour'] = df1['timeStamp'].apply(lambda x:x.hour)\n",
    "df1['Dayofweek'] = df1['timeStamp'].apply(lambda x:x.dayofweek)"
   ]
  },
  {
   "cell_type": "code",
   "execution_count": 14,
   "id": "86aee4e2",
   "metadata": {},
   "outputs": [],
   "source": [
    "dmap = {0:'Mon',1:'Tue',2:'Wed',3:'Thu',4:'Fri',5:'Sat',6:'Sun'}\n",
    "df1['Dayofweek']=df1['Dayofweek'].map(dmap)"
   ]
  },
  {
   "cell_type": "code",
   "execution_count": 15,
   "id": "bc64b983",
   "metadata": {
    "scrolled": false
   },
   "outputs": [
    {
     "data": {
      "text/html": [
       "<div>\n",
       "<style scoped>\n",
       "    .dataframe tbody tr th:only-of-type {\n",
       "        vertical-align: middle;\n",
       "    }\n",
       "\n",
       "    .dataframe tbody tr th {\n",
       "        vertical-align: top;\n",
       "    }\n",
       "\n",
       "    .dataframe thead th {\n",
       "        text-align: right;\n",
       "    }\n",
       "</style>\n",
       "<table border=\"1\" class=\"dataframe\">\n",
       "  <thead>\n",
       "    <tr style=\"text-align: right;\">\n",
       "      <th>Dayofweek</th>\n",
       "      <th>Fri</th>\n",
       "      <th>Mon</th>\n",
       "      <th>Sat</th>\n",
       "      <th>Sun</th>\n",
       "      <th>Thu</th>\n",
       "      <th>Tue</th>\n",
       "      <th>Wed</th>\n",
       "    </tr>\n",
       "    <tr>\n",
       "      <th>Reason</th>\n",
       "      <th></th>\n",
       "      <th></th>\n",
       "      <th></th>\n",
       "      <th></th>\n",
       "      <th></th>\n",
       "      <th></th>\n",
       "      <th></th>\n",
       "    </tr>\n",
       "  </thead>\n",
       "  <tbody>\n",
       "    <tr>\n",
       "      <th>EMS</th>\n",
       "      <td>7315</td>\n",
       "      <td>7240</td>\n",
       "      <td>6685</td>\n",
       "      <td>6456</td>\n",
       "      <td>6993</td>\n",
       "      <td>7222</td>\n",
       "      <td>6966</td>\n",
       "    </tr>\n",
       "    <tr>\n",
       "      <th>Fire</th>\n",
       "      <td>2088</td>\n",
       "      <td>2204</td>\n",
       "      <td>2068</td>\n",
       "      <td>2076</td>\n",
       "      <td>2136</td>\n",
       "      <td>2121</td>\n",
       "      <td>2227</td>\n",
       "    </tr>\n",
       "    <tr>\n",
       "      <th>Traffic</th>\n",
       "      <td>5430</td>\n",
       "      <td>5236</td>\n",
       "      <td>4583</td>\n",
       "      <td>3604</td>\n",
       "      <td>5349</td>\n",
       "      <td>5807</td>\n",
       "      <td>5686</td>\n",
       "    </tr>\n",
       "  </tbody>\n",
       "</table>\n",
       "</div>"
      ],
      "text/plain": [
       "Dayofweek   Fri   Mon   Sat   Sun   Thu   Tue   Wed\n",
       "Reason                                             \n",
       "EMS        7315  7240  6685  6456  6993  7222  6966\n",
       "Fire       2088  2204  2068  2076  2136  2121  2227\n",
       "Traffic    5430  5236  4583  3604  5349  5807  5686"
      ]
     },
     "execution_count": 15,
     "metadata": {},
     "output_type": "execute_result"
    }
   ],
   "source": [
    "dd = pd.crosstab(df1['Reason'],df1['Dayofweek'])\n",
    "dd"
   ]
  },
  {
   "cell_type": "code",
   "execution_count": 16,
   "id": "a7028640",
   "metadata": {},
   "outputs": [
    {
     "name": "stdout",
     "output_type": "stream",
     "text": [
      "Test Statistics = 318.6484437821447\n",
      "P-value = 5.6539911169434376e-61\n",
      "D.F. = 12\n",
      "Expected Freq = [[7286.94308085 7211.77943955 6551.51843364 5961.99967837 7112.54378241\n",
      "  7442.67428537 7309.5412998 ]\n",
      " [2224.38346802 2201.4393117  1999.89064447 1819.9364773  2171.1470269\n",
      "  2271.92136051 2231.28171109]\n",
      " [5321.67345113 5266.78124874 4784.59092188 4354.06384433 5194.30919069\n",
      "  5435.40435412 5338.1769891 ]]\n",
      "********************************************************************************\n",
      "Test Statistics is 318.6484437821447 and P-value is 5.6539911169434376e-61\n",
      "Therefore, the null hypothesis is rejected.\n"
     ]
    }
   ],
   "source": [
    "#Test whether the reason for emergency 911 calls is dependent of Day of week or not.\n",
    "\n",
    "#Ho: The reason for emergency 911 calls is independent of Day of week.\n",
    "#H1: The reason for emergency 911 calls is dependent of Day of week.\n",
    "\n",
    "chi2, p, dof, exp = stats.chi2_contingency(dd)\n",
    "print(\"Test Statistics =\",chi2)\n",
    "print(\"P-value =\",p)\n",
    "print(\"D.F. =\", dof)\n",
    "print(\"Expected Freq =\",exp)\n",
    "print('*'*80)\n",
    "print(\"Test Statistics is {} and P-value is {}\".format(chi2,p))\n",
    "if p<0.05:\n",
    "    print('Therefore, the null hypothesis is rejected.')\n",
    "else:\n",
    "    print('Therefore, the null hypothesis is accepted.')"
   ]
  },
  {
   "cell_type": "code",
   "execution_count": 17,
   "id": "42d61f61",
   "metadata": {},
   "outputs": [
    {
     "data": {
      "text/html": [
       "<div>\n",
       "<style scoped>\n",
       "    .dataframe tbody tr th:only-of-type {\n",
       "        vertical-align: middle;\n",
       "    }\n",
       "\n",
       "    .dataframe tbody tr th {\n",
       "        vertical-align: top;\n",
       "    }\n",
       "\n",
       "    .dataframe thead th {\n",
       "        text-align: right;\n",
       "    }\n",
       "</style>\n",
       "<table border=\"1\" class=\"dataframe\">\n",
       "  <thead>\n",
       "    <tr style=\"text-align: right;\">\n",
       "      <th>Month</th>\n",
       "      <th>Apr</th>\n",
       "      <th>Aug</th>\n",
       "      <th>Dec</th>\n",
       "      <th>Feb</th>\n",
       "      <th>Jan</th>\n",
       "      <th>Jul</th>\n",
       "      <th>Jun</th>\n",
       "      <th>Mar</th>\n",
       "      <th>May</th>\n",
       "    </tr>\n",
       "    <tr>\n",
       "      <th>Reason</th>\n",
       "      <th></th>\n",
       "      <th></th>\n",
       "      <th></th>\n",
       "      <th></th>\n",
       "      <th></th>\n",
       "      <th></th>\n",
       "      <th></th>\n",
       "      <th></th>\n",
       "      <th></th>\n",
       "    </tr>\n",
       "  </thead>\n",
       "  <tbody>\n",
       "    <tr>\n",
       "      <th>EMS</th>\n",
       "      <td>5680</td>\n",
       "      <td>4508</td>\n",
       "      <td>3898</td>\n",
       "      <td>5413</td>\n",
       "      <td>6063</td>\n",
       "      <td>6029</td>\n",
       "      <td>5720</td>\n",
       "      <td>5832</td>\n",
       "      <td>5734</td>\n",
       "    </tr>\n",
       "    <tr>\n",
       "      <th>Fire</th>\n",
       "      <td>1717</td>\n",
       "      <td>1473</td>\n",
       "      <td>1096</td>\n",
       "      <td>1869</td>\n",
       "      <td>1905</td>\n",
       "      <td>1901</td>\n",
       "      <td>1796</td>\n",
       "      <td>1590</td>\n",
       "      <td>1573</td>\n",
       "    </tr>\n",
       "    <tr>\n",
       "      <th>Traffic</th>\n",
       "      <td>3929</td>\n",
       "      <td>3097</td>\n",
       "      <td>2975</td>\n",
       "      <td>4185</td>\n",
       "      <td>5237</td>\n",
       "      <td>4207</td>\n",
       "      <td>4270</td>\n",
       "      <td>3679</td>\n",
       "      <td>4116</td>\n",
       "    </tr>\n",
       "  </tbody>\n",
       "</table>\n",
       "</div>"
      ],
      "text/plain": [
       "Month     Apr   Aug   Dec   Feb   Jan   Jul   Jun   Mar   May\n",
       "Reason                                                       \n",
       "EMS      5680  4508  3898  5413  6063  6029  5720  5832  5734\n",
       "Fire     1717  1473  1096  1869  1905  1901  1796  1590  1573\n",
       "Traffic  3929  3097  2975  4185  5237  4207  4270  3679  4116"
      ]
     },
     "execution_count": 17,
     "metadata": {},
     "output_type": "execute_result"
    }
   ],
   "source": [
    "month={1:'Jan',2:'Feb',3:'Mar',4:'Apr',5:'May',6:'Jun',7:'Jul',8:'Aug',9:'Sep',12:'Dec'}\n",
    "df1['Month']=df1['Month'].map(month)\n",
    "dm = pd.crosstab(df1['Reason'],df1['Month'])\n",
    "dm"
   ]
  },
  {
   "cell_type": "code",
   "execution_count": 18,
   "id": "ad278f14",
   "metadata": {
    "scrolled": true
   },
   "outputs": [
    {
     "name": "stdout",
     "output_type": "stream",
     "text": [
      "Test Statistics is 221.65443326681236 and P-value is 3.2099977969575655e-38\n",
      "Therefore, the null hypothesis is rejected.\n"
     ]
    }
   ],
   "source": [
    "#Test whether the reason for emergency 911 calls depends on month of the year.\n",
    "\n",
    "#Ho: The reason for emergency 911 calls is independent of Month.\n",
    "#H1: The reason for emergency 911 calls is dependent of Month.\n",
    "\n",
    "chi2, p, dof, exp = stats.chi2_contingency(dm)\n",
    "print(\"Test Statistics is {} and P-value is {}\".format(chi2,p))\n",
    "if p<0.05:\n",
    "    print('Therefore, the null hypothesis is rejected.')\n",
    "else:\n",
    "    print('Therefore, the null hypothesis is accepted.')"
   ]
  },
  {
   "cell_type": "markdown",
   "id": "90068f1b",
   "metadata": {},
   "source": [
    "### Chi-Square Goodness of Fit"
   ]
  },
  {
   "cell_type": "code",
   "execution_count": 19,
   "id": "216488f8",
   "metadata": {},
   "outputs": [
    {
     "data": {
      "text/plain": [
       "Tue    15150\n",
       "Wed    14879\n",
       "Fri    14833\n",
       "Mon    14680\n",
       "Thu    14478\n",
       "Sat    13336\n",
       "Sun    12136\n",
       "Name: Dayofweek, dtype: int64"
      ]
     },
     "execution_count": 19,
     "metadata": {},
     "output_type": "execute_result"
    }
   ],
   "source": [
    "gof = df1['Dayofweek'].value_counts()\n",
    "gof"
   ]
  },
  {
   "cell_type": "code",
   "execution_count": 20,
   "id": "2b8776ae",
   "metadata": {},
   "outputs": [
    {
     "name": "stdout",
     "output_type": "stream",
     "text": [
      "Test Statistics is 497.94031680939173 and P-value is 2.3355401185589408e-104\n",
      "Therefore, the null hypothesis is rejected.\n"
     ]
    }
   ],
   "source": [
    "#Test whether the proportions of the emergency calls in a day are the same.\n",
    "#H0: The proportions of the emergency calls in a day are the same.\n",
    "#H1: The proportions of the emergency calls in a day are not same.\n",
    "\n",
    "chi2, p = stats.chisquare(gof)\n",
    "print(\"Test Statistics is {} and P-value is {}\".format(chi2,p))\n",
    "if p<0.05:\n",
    "    print('Therefore, the null hypothesis is rejected.')\n",
    "else:\n",
    "    print('Therefore, the null hypothesis is accepted.')"
   ]
  },
  {
   "cell_type": "markdown",
   "id": "df6a1048",
   "metadata": {},
   "source": [
    "### F-test\n",
    "- For equality of variances"
   ]
  },
  {
   "cell_type": "code",
   "execution_count": 21,
   "id": "322ea790",
   "metadata": {},
   "outputs": [],
   "source": [
    "#Math Scores of Females\n",
    "f = df[df['gender']=='female']['math score']\n",
    "#Math Scores of Males\n",
    "m = df[df['gender']=='male']['math score']"
   ]
  },
  {
   "cell_type": "code",
   "execution_count": 22,
   "id": "319b284c",
   "metadata": {},
   "outputs": [
    {
     "data": {
      "text/plain": [
       "(63.633204633204635, 68.72821576763485)"
      ]
     },
     "execution_count": 22,
     "metadata": {},
     "output_type": "execute_result"
    }
   ],
   "source": [
    "f.mean(),m.mean()"
   ]
  },
  {
   "cell_type": "code",
   "execution_count": 23,
   "id": "29b11677",
   "metadata": {},
   "outputs": [
    {
     "name": "stdout",
     "output_type": "stream",
     "text": [
      "Test Statistics is 28.979336095030888 and P-value is 9.120185549332254e-08\n",
      "Therefore, the null hypothesis is rejected.\n"
     ]
    }
   ],
   "source": [
    "#Check whether the variability in maths score of female students and male students is same or not.\n",
    "\n",
    "#H0 : The variability in maths score of female students and male students is same.\n",
    "#H1 : The variability in maths score of female students is greater than male students.\n",
    "\n",
    "f,p = stats.f_oneway(f,m)\n",
    "print(\"Test Statistics is {} and P-value is {}\".format(f,p))\n",
    "if p<0.05:\n",
    "    print('Therefore, the null hypothesis is rejected.')\n",
    "else:\n",
    "    print('Therefore, the null hypothesis is accepted.')\n"
   ]
  }
 ],
 "metadata": {
  "kernelspec": {
   "display_name": "Python 3",
   "language": "python",
   "name": "python3"
  },
  "language_info": {
   "codemirror_mode": {
    "name": "ipython",
    "version": 3
   },
   "file_extension": ".py",
   "mimetype": "text/x-python",
   "name": "python",
   "nbconvert_exporter": "python",
   "pygments_lexer": "ipython3",
   "version": "3.8.8"
  }
 },
 "nbformat": 4,
 "nbformat_minor": 5
}
